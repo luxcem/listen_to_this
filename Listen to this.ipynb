{
 "cells": [
  {
   "cell_type": "markdown",
   "metadata": {},
   "source": [
    "# Exercice Machine Learning Selectra"
   ]
  },
  {
   "cell_type": "markdown",
   "metadata": {},
   "source": [
    "Arnaud Fabre 2018"
   ]
  },
  {
   "cell_type": "code",
   "execution_count": 1,
   "metadata": {},
   "outputs": [],
   "source": [
    "# DataScience libs\n",
    "import pandas as pd\n",
    "import numpy as np"
   ]
  },
  {
   "cell_type": "code",
   "execution_count": 2,
   "metadata": {},
   "outputs": [],
   "source": [
    "# DataViz libs\n",
    "import matplotlib.pyplot as plt\n",
    "import seaborn as sns\n",
    "%matplotlib inline"
   ]
  },
  {
   "cell_type": "code",
   "execution_count": 3,
   "metadata": {},
   "outputs": [],
   "source": [
    "# Reading data\n",
    "data_read = pd.read_csv(\"data_music_replay_train\")\n",
    "data = data_read.copy()"
   ]
  },
  {
   "cell_type": "markdown",
   "metadata": {},
   "source": [
    "## Showing correlations"
   ]
  },
  {
   "cell_type": "markdown",
   "metadata": {},
   "source": [
    "The very first step of a machine learning process is to understand the data."
   ]
  },
  {
   "cell_type": "code",
   "execution_count": 4,
   "metadata": {},
   "outputs": [
    {
     "data": {
      "text/html": [
       "<div>\n",
       "<style scoped>\n",
       "    .dataframe tbody tr th:only-of-type {\n",
       "        vertical-align: middle;\n",
       "    }\n",
       "\n",
       "    .dataframe tbody tr th {\n",
       "        vertical-align: top;\n",
       "    }\n",
       "\n",
       "    .dataframe thead th {\n",
       "        text-align: right;\n",
       "    }\n",
       "</style>\n",
       "<table border=\"1\" class=\"dataframe\">\n",
       "  <thead>\n",
       "    <tr style=\"text-align: right;\">\n",
       "      <th></th>\n",
       "      <th>msno</th>\n",
       "      <th>song_id</th>\n",
       "      <th>source_system_tab</th>\n",
       "      <th>source_screen_name</th>\n",
       "      <th>source_type</th>\n",
       "      <th>target</th>\n",
       "      <th>city</th>\n",
       "      <th>bd</th>\n",
       "      <th>gender</th>\n",
       "      <th>registered_via</th>\n",
       "      <th>registration_init_time</th>\n",
       "      <th>expiration_date</th>\n",
       "      <th>song_length</th>\n",
       "      <th>genre_ids</th>\n",
       "      <th>language</th>\n",
       "      <th>remaining_days</th>\n",
       "    </tr>\n",
       "  </thead>\n",
       "  <tbody>\n",
       "    <tr>\n",
       "      <th>342794</th>\n",
       "      <td>1248</td>\n",
       "      <td>20511</td>\n",
       "      <td>my library</td>\n",
       "      <td>Local playlist more</td>\n",
       "      <td>local-library</td>\n",
       "      <td>0</td>\n",
       "      <td>5</td>\n",
       "      <td>29</td>\n",
       "      <td>female</td>\n",
       "      <td>3</td>\n",
       "      <td>2014-10-25</td>\n",
       "      <td>2017-11-18</td>\n",
       "      <td>289018</td>\n",
       "      <td>465</td>\n",
       "      <td>3.0</td>\n",
       "      <td>1120</td>\n",
       "    </tr>\n",
       "    <tr>\n",
       "      <th>599967</th>\n",
       "      <td>20240</td>\n",
       "      <td>64281</td>\n",
       "      <td>discover</td>\n",
       "      <td>Online playlist more</td>\n",
       "      <td>online-playlist</td>\n",
       "      <td>0</td>\n",
       "      <td>6</td>\n",
       "      <td>23</td>\n",
       "      <td>male</td>\n",
       "      <td>3</td>\n",
       "      <td>2012-06-07</td>\n",
       "      <td>2018-06-06</td>\n",
       "      <td>193654</td>\n",
       "      <td>444</td>\n",
       "      <td>31.0</td>\n",
       "      <td>2190</td>\n",
       "    </tr>\n",
       "    <tr>\n",
       "      <th>619226</th>\n",
       "      <td>22107</td>\n",
       "      <td>22556</td>\n",
       "      <td>radio</td>\n",
       "      <td>Radio</td>\n",
       "      <td>radio</td>\n",
       "      <td>1</td>\n",
       "      <td>22</td>\n",
       "      <td>29</td>\n",
       "      <td>male</td>\n",
       "      <td>3</td>\n",
       "      <td>2016-02-27</td>\n",
       "      <td>2017-10-29</td>\n",
       "      <td>254223</td>\n",
       "      <td>465</td>\n",
       "      <td>3.0</td>\n",
       "      <td>610</td>\n",
       "    </tr>\n",
       "    <tr>\n",
       "      <th>40748</th>\n",
       "      <td>14194</td>\n",
       "      <td>13255</td>\n",
       "      <td>discover</td>\n",
       "      <td>Discover Feature</td>\n",
       "      <td>song-based-playlist</td>\n",
       "      <td>0</td>\n",
       "      <td>1</td>\n",
       "      <td>0</td>\n",
       "      <td>NaN</td>\n",
       "      <td>7</td>\n",
       "      <td>2012-01-10</td>\n",
       "      <td>2017-09-10</td>\n",
       "      <td>259526</td>\n",
       "      <td>465</td>\n",
       "      <td>3.0</td>\n",
       "      <td>2070</td>\n",
       "    </tr>\n",
       "  </tbody>\n",
       "</table>\n",
       "</div>"
      ],
      "text/plain": [
       "         msno  song_id source_system_tab    source_screen_name  \\\n",
       "342794   1248    20511        my library   Local playlist more   \n",
       "599967  20240    64281          discover  Online playlist more   \n",
       "619226  22107    22556             radio                 Radio   \n",
       "40748   14194    13255          discover      Discover Feature   \n",
       "\n",
       "                source_type  target  city  bd  gender  registered_via  \\\n",
       "342794        local-library       0     5  29  female               3   \n",
       "599967      online-playlist       0     6  23    male               3   \n",
       "619226                radio       1    22  29    male               3   \n",
       "40748   song-based-playlist       0     1   0     NaN               7   \n",
       "\n",
       "       registration_init_time expiration_date  song_length genre_ids  \\\n",
       "342794             2014-10-25      2017-11-18       289018       465   \n",
       "599967             2012-06-07      2018-06-06       193654       444   \n",
       "619226             2016-02-27      2017-10-29       254223       465   \n",
       "40748              2012-01-10      2017-09-10       259526       465   \n",
       "\n",
       "        language  remaining_days  \n",
       "342794       3.0            1120  \n",
       "599967      31.0            2190  \n",
       "619226       3.0             610  \n",
       "40748        3.0            2070  "
      ]
     },
     "execution_count": 4,
     "metadata": {},
     "output_type": "execute_result"
    }
   ],
   "source": [
    "# Show a sample of the data\n",
    "data.sample(4)"
   ]
  },
  {
   "cell_type": "code",
   "execution_count": 5,
   "metadata": {},
   "outputs": [
    {
     "data": {
      "text/html": [
       "<div>\n",
       "<style scoped>\n",
       "    .dataframe tbody tr th:only-of-type {\n",
       "        vertical-align: middle;\n",
       "    }\n",
       "\n",
       "    .dataframe tbody tr th {\n",
       "        vertical-align: top;\n",
       "    }\n",
       "\n",
       "    .dataframe thead th {\n",
       "        text-align: right;\n",
       "    }\n",
       "</style>\n",
       "<table border=\"1\" class=\"dataframe\">\n",
       "  <thead>\n",
       "    <tr style=\"text-align: right;\">\n",
       "      <th></th>\n",
       "      <th>count</th>\n",
       "      <th>mean</th>\n",
       "      <th>std</th>\n",
       "      <th>min</th>\n",
       "      <th>25%</th>\n",
       "      <th>50%</th>\n",
       "      <th>75%</th>\n",
       "      <th>max</th>\n",
       "    </tr>\n",
       "  </thead>\n",
       "  <tbody>\n",
       "    <tr>\n",
       "      <th>msno</th>\n",
       "      <td>663957.0</td>\n",
       "      <td>13659.028247</td>\n",
       "      <td>7873.546059</td>\n",
       "      <td>0.0</td>\n",
       "      <td>6854.0</td>\n",
       "      <td>13723.0</td>\n",
       "      <td>20526.0</td>\n",
       "      <td>27218.0</td>\n",
       "    </tr>\n",
       "    <tr>\n",
       "      <th>song_id</th>\n",
       "      <td>663957.0</td>\n",
       "      <td>56475.518228</td>\n",
       "      <td>32723.693649</td>\n",
       "      <td>0.0</td>\n",
       "      <td>28015.0</td>\n",
       "      <td>56246.0</td>\n",
       "      <td>84349.0</td>\n",
       "      <td>113332.0</td>\n",
       "    </tr>\n",
       "    <tr>\n",
       "      <th>target</th>\n",
       "      <td>663957.0</td>\n",
       "      <td>0.502484</td>\n",
       "      <td>0.499994</td>\n",
       "      <td>0.0</td>\n",
       "      <td>0.0</td>\n",
       "      <td>1.0</td>\n",
       "      <td>1.0</td>\n",
       "      <td>1.0</td>\n",
       "    </tr>\n",
       "    <tr>\n",
       "      <th>city</th>\n",
       "      <td>663957.0</td>\n",
       "      <td>7.512226</td>\n",
       "      <td>6.643304</td>\n",
       "      <td>1.0</td>\n",
       "      <td>1.0</td>\n",
       "      <td>5.0</td>\n",
       "      <td>13.0</td>\n",
       "      <td>22.0</td>\n",
       "    </tr>\n",
       "    <tr>\n",
       "      <th>bd</th>\n",
       "      <td>663957.0</td>\n",
       "      <td>17.535374</td>\n",
       "      <td>21.499614</td>\n",
       "      <td>-43.0</td>\n",
       "      <td>0.0</td>\n",
       "      <td>21.0</td>\n",
       "      <td>29.0</td>\n",
       "      <td>1030.0</td>\n",
       "    </tr>\n",
       "    <tr>\n",
       "      <th>registered_via</th>\n",
       "      <td>663957.0</td>\n",
       "      <td>6.793684</td>\n",
       "      <td>2.275819</td>\n",
       "      <td>3.0</td>\n",
       "      <td>4.0</td>\n",
       "      <td>7.0</td>\n",
       "      <td>9.0</td>\n",
       "      <td>13.0</td>\n",
       "    </tr>\n",
       "    <tr>\n",
       "      <th>song_length</th>\n",
       "      <td>663957.0</td>\n",
       "      <td>245059.429103</td>\n",
       "      <td>67391.013986</td>\n",
       "      <td>1950.0</td>\n",
       "      <td>214622.0</td>\n",
       "      <td>241684.0</td>\n",
       "      <td>272195.0</td>\n",
       "      <td>7575835.0</td>\n",
       "    </tr>\n",
       "    <tr>\n",
       "      <th>language</th>\n",
       "      <td>663953.0</td>\n",
       "      <td>18.598420</td>\n",
       "      <td>21.186004</td>\n",
       "      <td>-1.0</td>\n",
       "      <td>3.0</td>\n",
       "      <td>3.0</td>\n",
       "      <td>52.0</td>\n",
       "      <td>59.0</td>\n",
       "    </tr>\n",
       "    <tr>\n",
       "      <th>remaining_days</th>\n",
       "      <td>663957.0</td>\n",
       "      <td>1627.231030</td>\n",
       "      <td>1127.995910</td>\n",
       "      <td>-16191.0</td>\n",
       "      <td>701.0</td>\n",
       "      <td>1434.0</td>\n",
       "      <td>2286.0</td>\n",
       "      <td>5149.0</td>\n",
       "    </tr>\n",
       "  </tbody>\n",
       "</table>\n",
       "</div>"
      ],
      "text/plain": [
       "                   count           mean           std      min       25%  \\\n",
       "msno            663957.0   13659.028247   7873.546059      0.0    6854.0   \n",
       "song_id         663957.0   56475.518228  32723.693649      0.0   28015.0   \n",
       "target          663957.0       0.502484      0.499994      0.0       0.0   \n",
       "city            663957.0       7.512226      6.643304      1.0       1.0   \n",
       "bd              663957.0      17.535374     21.499614    -43.0       0.0   \n",
       "registered_via  663957.0       6.793684      2.275819      3.0       4.0   \n",
       "song_length     663957.0  245059.429103  67391.013986   1950.0  214622.0   \n",
       "language        663953.0      18.598420     21.186004     -1.0       3.0   \n",
       "remaining_days  663957.0    1627.231030   1127.995910 -16191.0     701.0   \n",
       "\n",
       "                     50%       75%        max  \n",
       "msno             13723.0   20526.0    27218.0  \n",
       "song_id          56246.0   84349.0   113332.0  \n",
       "target               1.0       1.0        1.0  \n",
       "city                 5.0      13.0       22.0  \n",
       "bd                  21.0      29.0     1030.0  \n",
       "registered_via       7.0       9.0       13.0  \n",
       "song_length     241684.0  272195.0  7575835.0  \n",
       "language             3.0      52.0       59.0  \n",
       "remaining_days    1434.0    2286.0     5149.0  "
      ]
     },
     "execution_count": 5,
     "metadata": {},
     "output_type": "execute_result"
    }
   ],
   "source": [
    "# Show feature properties\n",
    "data.describe().transpose()"
   ]
  },
  {
   "cell_type": "markdown",
   "metadata": {},
   "source": [
    "We have to transform categorical feature into numerical feature as ML algorithms use numerical feature"
   ]
  },
  {
   "cell_type": "code",
   "execution_count": 6,
   "metadata": {},
   "outputs": [
    {
     "data": {
      "text/plain": [
       "msno                        int64\n",
       "song_id                     int64\n",
       "source_system_tab          object\n",
       "source_screen_name         object\n",
       "source_type                object\n",
       "target                      int64\n",
       "city                        int64\n",
       "bd                          int64\n",
       "gender                     object\n",
       "registered_via              int64\n",
       "registration_init_time     object\n",
       "expiration_date            object\n",
       "song_length                 int64\n",
       "genre_ids                  object\n",
       "language                  float64\n",
       "remaining_days              int64\n",
       "dtype: object"
      ]
     },
     "execution_count": 6,
     "metadata": {},
     "output_type": "execute_result"
    }
   ],
   "source": [
    "# Identify possible issues with some columns\n",
    "data.dtypes"
   ]
  },
  {
   "cell_type": "code",
   "execution_count": 7,
   "metadata": {},
   "outputs": [
    {
     "data": {
      "text/plain": [
       "202041      1616|1609\n",
       "188369            NaN\n",
       "237769    139|125|109\n",
       "627526      1616|1609\n",
       "7580          921|465\n",
       "495355            NaN\n",
       "79371        465|2022\n",
       "303489       465|1259\n",
       "245525        465|921\n",
       "90471             NaN\n",
       "Name: genre_ids, dtype: object"
      ]
     },
     "execution_count": 7,
     "metadata": {},
     "output_type": "execute_result"
    }
   ],
   "source": [
    "# genre_ids is a combination of differents types\n",
    "# We are going to get value that are not numbers\n",
    "not_numbers = data_read.genre_ids.astype(str).apply(lambda x: x.isnumeric()) == False\n",
    "data_read[\"genre_ids\"][not_numbers.values].sample(10)"
   ]
  },
  {
   "cell_type": "markdown",
   "metadata": {},
   "source": [
    "We see that some element have multiple genre or not, for our first algorith we will only select the first genre"
   ]
  },
  {
   "cell_type": "code",
   "execution_count": 8,
   "metadata": {},
   "outputs": [
    {
     "data": {
      "text/plain": [
       "count    663957.000000\n",
       "mean         17.535374\n",
       "std          21.499614\n",
       "min         -43.000000\n",
       "25%           0.000000\n",
       "50%          21.000000\n",
       "75%          29.000000\n",
       "max        1030.000000\n",
       "Name: bd, dtype: float64"
      ]
     },
     "execution_count": 8,
     "metadata": {},
     "output_type": "execute_result"
    }
   ],
   "source": [
    "data[\"bd\"].describe()"
   ]
  },
  {
   "cell_type": "markdown",
   "metadata": {},
   "source": [
    "bd is the age so it should not be negative or 0 we will replace outliers with the median value"
   ]
  },
  {
   "cell_type": "code",
   "execution_count": 9,
   "metadata": {},
   "outputs": [
    {
     "data": {
      "text/plain": [
       "msno                      False\n",
       "song_id                   False\n",
       "source_system_tab          True\n",
       "source_screen_name         True\n",
       "source_type                True\n",
       "target                    False\n",
       "city                      False\n",
       "bd                        False\n",
       "gender                     True\n",
       "registered_via            False\n",
       "registration_init_time    False\n",
       "expiration_date           False\n",
       "song_length               False\n",
       "genre_ids                  True\n",
       "language                   True\n",
       "remaining_days            False\n",
       "dtype: bool"
      ]
     },
     "execution_count": 9,
     "metadata": {},
     "output_type": "execute_result"
    }
   ],
   "source": [
    "data.isnull().any()"
   ]
  },
  {
   "cell_type": "markdown",
   "metadata": {},
   "source": [
    "We see that some language are NaN, let see more in depth"
   ]
  },
  {
   "cell_type": "code",
   "execution_count": 10,
   "metadata": {},
   "outputs": [
    {
     "data": {
      "text/html": [
       "<div>\n",
       "<style scoped>\n",
       "    .dataframe tbody tr th:only-of-type {\n",
       "        vertical-align: middle;\n",
       "    }\n",
       "\n",
       "    .dataframe tbody tr th {\n",
       "        vertical-align: top;\n",
       "    }\n",
       "\n",
       "    .dataframe thead th {\n",
       "        text-align: right;\n",
       "    }\n",
       "</style>\n",
       "<table border=\"1\" class=\"dataframe\">\n",
       "  <thead>\n",
       "    <tr style=\"text-align: right;\">\n",
       "      <th></th>\n",
       "      <th>msno</th>\n",
       "      <th>song_id</th>\n",
       "      <th>source_system_tab</th>\n",
       "      <th>source_screen_name</th>\n",
       "      <th>source_type</th>\n",
       "      <th>target</th>\n",
       "      <th>city</th>\n",
       "      <th>bd</th>\n",
       "      <th>gender</th>\n",
       "      <th>registered_via</th>\n",
       "      <th>registration_init_time</th>\n",
       "      <th>expiration_date</th>\n",
       "      <th>song_length</th>\n",
       "      <th>genre_ids</th>\n",
       "      <th>language</th>\n",
       "      <th>remaining_days</th>\n",
       "    </tr>\n",
       "  </thead>\n",
       "  <tbody>\n",
       "    <tr>\n",
       "      <th>130402</th>\n",
       "      <td>3455</td>\n",
       "      <td>91022</td>\n",
       "      <td>my library</td>\n",
       "      <td>Local playlist more</td>\n",
       "      <td>local-library</td>\n",
       "      <td>0</td>\n",
       "      <td>1</td>\n",
       "      <td>0</td>\n",
       "      <td>NaN</td>\n",
       "      <td>4</td>\n",
       "      <td>2016-03-21</td>\n",
       "      <td>2017-10-12</td>\n",
       "      <td>178654</td>\n",
       "      <td>444</td>\n",
       "      <td>NaN</td>\n",
       "      <td>570</td>\n",
       "    </tr>\n",
       "    <tr>\n",
       "      <th>151286</th>\n",
       "      <td>21256</td>\n",
       "      <td>91022</td>\n",
       "      <td>discover</td>\n",
       "      <td>Online playlist more</td>\n",
       "      <td>online-playlist</td>\n",
       "      <td>0</td>\n",
       "      <td>13</td>\n",
       "      <td>40</td>\n",
       "      <td>male</td>\n",
       "      <td>9</td>\n",
       "      <td>2009-09-21</td>\n",
       "      <td>2017-09-30</td>\n",
       "      <td>178654</td>\n",
       "      <td>444</td>\n",
       "      <td>NaN</td>\n",
       "      <td>2931</td>\n",
       "    </tr>\n",
       "    <tr>\n",
       "      <th>297675</th>\n",
       "      <td>13796</td>\n",
       "      <td>91022</td>\n",
       "      <td>my library</td>\n",
       "      <td>Local playlist more</td>\n",
       "      <td>local-library</td>\n",
       "      <td>0</td>\n",
       "      <td>1</td>\n",
       "      <td>0</td>\n",
       "      <td>NaN</td>\n",
       "      <td>7</td>\n",
       "      <td>2011-08-16</td>\n",
       "      <td>2017-09-08</td>\n",
       "      <td>178654</td>\n",
       "      <td>444</td>\n",
       "      <td>NaN</td>\n",
       "      <td>2215</td>\n",
       "    </tr>\n",
       "    <tr>\n",
       "      <th>359198</th>\n",
       "      <td>887</td>\n",
       "      <td>91022</td>\n",
       "      <td>discover</td>\n",
       "      <td>Discover Genre</td>\n",
       "      <td>online-playlist</td>\n",
       "      <td>1</td>\n",
       "      <td>15</td>\n",
       "      <td>37</td>\n",
       "      <td>male</td>\n",
       "      <td>4</td>\n",
       "      <td>2017-01-09</td>\n",
       "      <td>2017-10-11</td>\n",
       "      <td>178654</td>\n",
       "      <td>444</td>\n",
       "      <td>NaN</td>\n",
       "      <td>275</td>\n",
       "    </tr>\n",
       "  </tbody>\n",
       "</table>\n",
       "</div>"
      ],
      "text/plain": [
       "         msno  song_id source_system_tab    source_screen_name  \\\n",
       "130402   3455    91022        my library   Local playlist more   \n",
       "151286  21256    91022          discover  Online playlist more   \n",
       "297675  13796    91022        my library   Local playlist more   \n",
       "359198    887    91022          discover        Discover Genre   \n",
       "\n",
       "            source_type  target  city  bd gender  registered_via  \\\n",
       "130402    local-library       0     1   0    NaN               4   \n",
       "151286  online-playlist       0    13  40   male               9   \n",
       "297675    local-library       0     1   0    NaN               7   \n",
       "359198  online-playlist       1    15  37   male               4   \n",
       "\n",
       "       registration_init_time expiration_date  song_length genre_ids  \\\n",
       "130402             2016-03-21      2017-10-12       178654       444   \n",
       "151286             2009-09-21      2017-09-30       178654       444   \n",
       "297675             2011-08-16      2017-09-08       178654       444   \n",
       "359198             2017-01-09      2017-10-11       178654       444   \n",
       "\n",
       "        language  remaining_days  \n",
       "130402       NaN             570  \n",
       "151286       NaN            2931  \n",
       "297675       NaN            2215  \n",
       "359198       NaN             275  "
      ]
     },
     "execution_count": 10,
     "metadata": {},
     "output_type": "execute_result"
    }
   ],
   "source": [
    "data[data.language.isnull()]"
   ]
  },
  {
   "cell_type": "markdown",
   "metadata": {},
   "source": [
    "We only have a few NaN we will set a default value for these"
   ]
  },
  {
   "cell_type": "code",
   "execution_count": 11,
   "metadata": {},
   "outputs": [],
   "source": [
    "def cat_gender(g):\n",
    "    if g == \"male\":\n",
    "        return 1\n",
    "    elif g == \"female\":\n",
    "        return -1\n",
    "    else:\n",
    "        return 0\n",
    "    \n",
    "def cat_genre(g):\n",
    "    # Select first genre\n",
    "    try:\n",
    "        return(int(g))\n",
    "    except:\n",
    "        if isinstance(g, str):\n",
    "            return g.split(\"|\")[0]\n",
    "        else:\n",
    "            return 0\n",
    "\n",
    "def snd_genre(g):\n",
    "    # Select first genre\n",
    "    try:\n",
    "        return g.split(\"|\")[1]\n",
    "    except:\n",
    "        return 0\n",
    "        \n",
    "def correct_language(l):\n",
    "    if l is None or l < 0:\n",
    "        return 0\n",
    "    return l\n",
    "\n",
    "def genre_id_count(x):\n",
    "    try:\n",
    "        return x.count(\"|\") + 1\n",
    "    except:\n",
    "        return 1\n",
    "\n",
    "data = data_read.copy()\n",
    "bd_median = data_read.loc[(data.bd > 0) & (data.bd < 100), \"bd\"].median()\n",
    "data.loc[data.bd > 100, \"bd\"] = bd_median\n",
    "data.loc[data.bd <= 0, \"bd\"] = bd_median\n",
    "data[\"gender\"] = data[\"gender\"].apply(cat_gender)\n",
    "data[\"source_type\"] = data[\"source_type\"].astype(\"category\").cat.codes\n",
    "data[\"source_screen_name\"] = data[\"source_screen_name\"].astype(\"category\").cat.codes\n",
    "data[\"source_system_tab\"] = data[\"source_system_tab\"].astype(\"category\").cat.codes\n",
    "data[\"genre_count\"] = data[\"genre_ids\"].apply(genre_id_count)\n",
    "data[\"genre_id\"] = data[\"genre_ids\"].apply(cat_genre)\n",
    "#data[\"snd_genre_id\"] = data[\"genre_ids\"].apply(snd_genre)\n",
    "data[\"language\"] = data[\"language\"].apply(correct_language).fillna(0)\n",
    "data.drop([\"registration_init_time\", \"expiration_date\", \"genre_ids\"], axis=1, inplace=True)\n",
    "data_first_pass = data.copy()"
   ]
  },
  {
   "cell_type": "code",
   "execution_count": 12,
   "metadata": {},
   "outputs": [
    {
     "name": "stderr",
     "output_type": "stream",
     "text": [
      "/home/arnaud/.virtualenvs/p3/lib/python3.6/site-packages/matplotlib/cbook/deprecation.py:106: MatplotlibDeprecationWarning: Adding an axes using the same arguments as a previous axes currently reuses the earlier instance.  In a future version, a new instance will always be created and returned.  Meanwhile, this warning can be suppressed, and the future behavior ensured, by passing a unique label to each axes instance.\n",
      "  warnings.warn(message, mplDeprecation, stacklevel=1)\n"
     ]
    },
    {
     "data": {
      "text/plain": [
       "<matplotlib.axes._subplots.AxesSubplot at 0x7f11357b3208>"
      ]
     },
     "execution_count": 12,
     "metadata": {},
     "output_type": "execute_result"
    },
    {
     "data": {
      "image/png": "[encoded data removed]",
      "text/plain": [
       "<matplotlib.figure.Figure at 0x7f11357b3240>"
      ]
     },
     "metadata": {},
     "output_type": "display_data"
    }
   ],
   "source": [
    "# Correlation value with column \"target\"\n",
    "corr = data.corr()[[\"target\"]].abs().sort_values(by=\"target\", ascending=False).reset_index()\n",
    "# drop target/target correlation\n",
    "corr.drop(0, inplace=True)\n",
    "fig = plt.figure(figsize=(20,5));\n",
    "plt.xticks(rotation=90)\n",
    "sns.barplot(x=\"index\", y=\"target\", data=corr, ax=plt.subplot(111))"
   ]
  },
  {
   "cell_type": "code",
   "execution_count": 13,
   "metadata": {},
   "outputs": [
    {
     "data": {
      "text/plain": [
       "<matplotlib.axes._subplots.AxesSubplot at 0x7f11371bd668>"
      ]
     },
     "execution_count": 13,
     "metadata": {},
     "output_type": "execute_result"
    },
    {
     "data": {
      "image/png": "[encoded data removed]",
      "text/plain": [
       "<matplotlib.figure.Figure at 0x7f11371bd048>"
      ]
     },
     "metadata": {},
     "output_type": "display_data"
    }
   ],
   "source": [
    "plt.figure(figsize=(14,12))\n",
    "plt.title(\"Correlation of Features\", y=1, size=15)\n",
    "sns.heatmap(data.astype(float).corr().abs(), linewidths=0.1,vmax=0.2, square=True, cmap=plt.cm.RdBu, linecolor=\"white\", annot=True)"
   ]
  },
  {
   "cell_type": "markdown",
   "metadata": {},
   "source": [
    "### Removing categorical value"
   ]
  },
  {
   "cell_type": "code",
   "execution_count": 14,
   "metadata": {},
   "outputs": [],
   "source": [
    "data = data_first_pass.copy()\n",
    "# Bins continous values\n",
    "bins = [\"bd\", \"song_length\"]\n",
    "for column in bins:\n",
    "    data[column] = pd.qcut(data[column], q=4, labels=False)\n",
    "# One Hot Encoding\n",
    "ohe = [\"source_type\", \"source_screen_name\", \"source_system_tab\", \"language\", \"registered_via\", \"city\"] + bins\n",
    "data = pd.get_dummies(data, prefix=ohe, columns=ohe, drop_first=True)\n",
    "# Change feature to its frequency\n",
    "data[\"song_freq\"] = data.groupby(\"song_id\")[\"song_id\"].transform(\"count\")\n",
    "data[\"user_freq\"] = data.groupby(\"msno\")[\"msno\"].transform(\"count\")\n",
    "data[\"genre_freq\"] = data.groupby(\"genre_id\")[\"genre_id\"].transform(\"count\")\n",
    "\n",
    "data.drop([\"msno\", \"song_id\", \"genre_id\", \"remaining_days\"], axis=1, inplace=True)"
   ]
  },
  {
   "cell_type": "code",
   "execution_count": 15,
   "metadata": {},
   "outputs": [
    {
     "data": {
      "text/html": [
       "<div>\n",
       "<style scoped>\n",
       "    .dataframe tbody tr th:only-of-type {\n",
       "        vertical-align: middle;\n",
       "    }\n",
       "\n",
       "    .dataframe tbody tr th {\n",
       "        vertical-align: top;\n",
       "    }\n",
       "\n",
       "    .dataframe thead th {\n",
       "        text-align: right;\n",
       "    }\n",
       "</style>\n",
       "<table border=\"1\" class=\"dataframe\">\n",
       "  <thead>\n",
       "    <tr style=\"text-align: right;\">\n",
       "      <th></th>\n",
       "      <th>song_freq</th>\n",
       "      <th>user_freq</th>\n",
       "      <th>genre_freq</th>\n",
       "      <th>target</th>\n",
       "    </tr>\n",
       "  </thead>\n",
       "  <tbody>\n",
       "    <tr>\n",
       "      <th>song_freq</th>\n",
       "      <td>1.000000</td>\n",
       "      <td>0.148350</td>\n",
       "      <td>0.029683</td>\n",
       "      <td>0.154634</td>\n",
       "    </tr>\n",
       "    <tr>\n",
       "      <th>user_freq</th>\n",
       "      <td>0.148350</td>\n",
       "      <td>1.000000</td>\n",
       "      <td>0.010009</td>\n",
       "      <td>0.003318</td>\n",
       "    </tr>\n",
       "    <tr>\n",
       "      <th>genre_freq</th>\n",
       "      <td>0.029683</td>\n",
       "      <td>0.010009</td>\n",
       "      <td>1.000000</td>\n",
       "      <td>0.019161</td>\n",
       "    </tr>\n",
       "    <tr>\n",
       "      <th>target</th>\n",
       "      <td>0.154634</td>\n",
       "      <td>0.003318</td>\n",
       "      <td>0.019161</td>\n",
       "      <td>1.000000</td>\n",
       "    </tr>\n",
       "  </tbody>\n",
       "</table>\n",
       "</div>"
      ],
      "text/plain": [
       "            song_freq  user_freq  genre_freq    target\n",
       "song_freq    1.000000   0.148350    0.029683  0.154634\n",
       "user_freq    0.148350   1.000000    0.010009  0.003318\n",
       "genre_freq   0.029683   0.010009    1.000000  0.019161\n",
       "target       0.154634   0.003318    0.019161  1.000000"
      ]
     },
     "execution_count": 15,
     "metadata": {},
     "output_type": "execute_result"
    }
   ],
   "source": [
    "data[\n",
    "    [\"song_freq\", \"user_freq\", \"genre_freq\", \"target\"]\n",
    "].astype(float).corr().abs()"
   ]
  },
  {
   "cell_type": "markdown",
   "metadata": {},
   "source": [
    "# ML - Training"
   ]
  },
  {
   "cell_type": "code",
   "execution_count": 16,
   "metadata": {},
   "outputs": [],
   "source": [
    "# Utilities\n",
    "from sklearn.metrics import make_scorer, accuracy_score, confusion_matrix, classification_report\n",
    "from sklearn.model_selection import GridSearchCV, StratifiedKFold\n",
    "from sklearn import preprocessing"
   ]
  },
  {
   "cell_type": "markdown",
   "metadata": {},
   "source": [
    "First we split the dataset into 3 part : training / testing\n",
    "\n",
    "This step is really important to not overfitting our model by training it on the test set.\n",
    "\n",
    "- Training set is used to train our model\n",
    "- Testing set is used to calculate our model accuracy\n",
    "\n",
    "The learning algorithm must not see at all any data of the test set!"
   ]
  },
  {
   "cell_type": "markdown",
   "metadata": {},
   "source": [
    "## Preprocessing\n",
    "\n",
    "ML algorithms works better with normalized (0 to 1) and standardized (mean = 0, σ = 1) values"
   ]
  },
  {
   "cell_type": "code",
   "execution_count": 17,
   "metadata": {},
   "outputs": [
    {
     "data": {
      "text/plain": [
       "<matplotlib.axes._subplots.AxesSubplot at 0x7f1132cd3048>"
      ]
     },
     "execution_count": 17,
     "metadata": {},
     "output_type": "execute_result"
    },
    {
     "data": {
      "image/png": "[encoded data removed]",
      "text/plain": [
       "<matplotlib.figure.Figure at 0x7f113567ab38>"
      ]
     },
     "metadata": {},
     "output_type": "display_data"
    }
   ],
   "source": [
    "sns.distplot(data.song_freq)"
   ]
  },
  {
   "cell_type": "code",
   "execution_count": 26,
   "metadata": {},
   "outputs": [],
   "source": [
    "from sklearn.model_selection import train_test_split\n",
    "seed = 444\n",
    "data_fit = data.copy()\n",
    "X_all_full = data_fit.drop(\"target\", axis=1)\n",
    "y_all_full = data_fit[\"target\"]\n",
    "\n",
    "# Many classifier excepts data to be normalized\n",
    "scaler = preprocessing.StandardScaler()\n",
    "minmax = preprocessing.MinMaxScaler()\n",
    "# Standard scale gaussian distributed value\n",
    "columns = [\"song_freq\", \"user_freq\", \"genre_count\", \"genre_freq\"]\n",
    "X_all_full[columns] = scaler.fit_transform(X_all_full[columns])\n",
    "\n",
    "# For the sake of simplicity we will demonstrate algorithms on a really small subset of the data, to keep calculation short\n",
    "X_train, X_test, y_train, y_test = train_test_split(X_all_full, y_all_full, test_size=0.80, random_state=seed)"
   ]
  },
  {
   "cell_type": "markdown",
   "metadata": {},
   "source": [
    "## Fitting"
   ]
  },
  {
   "cell_type": "code",
   "execution_count": 27,
   "metadata": {},
   "outputs": [],
   "source": [
    "# Classifiers\n",
    "from sklearn.linear_model import LogisticRegression\n",
    "from sklearn.svm import SVC\n",
    "from sklearn.ensemble import AdaBoostClassifier, RandomForestClassifier, GradientBoostingClassifier, VotingClassifier\n",
    "from sklearn.naive_bayes import GaussianNB\n",
    "from sklearn.tree import DecisionTreeClassifier"
   ]
  },
  {
   "cell_type": "markdown",
   "metadata": {},
   "source": [
    "#### First classifiers"
   ]
  },
  {
   "cell_type": "code",
   "execution_count": 28,
   "metadata": {},
   "outputs": [
    {
     "name": "stdout",
     "output_type": "stream",
     "text": [
      "GradientBoostingClassifier\n",
      "0.650553687548\n"
     ]
    }
   ],
   "source": [
    "clf = GradientBoostingClassifier()\n",
    "clf.fit(X_train, y_train)\n",
    "print(clf.__class__.__name__)\n",
    "print(accuracy_score(y_test, clf.predict(X_test)))"
   ]
  },
  {
   "cell_type": "code",
   "execution_count": 29,
   "metadata": {},
   "outputs": [
    {
     "name": "stdout",
     "output_type": "stream",
     "text": [
      "LogisticRegression\n",
      "0.643727196394\n",
      "RandomForestClassifier\n",
      "0.612917618974\n",
      "GaussianNB\n",
      "0.599066958352\n",
      "DecisionTreeClassifier\n",
      "0.570589985052\n",
      "GradientBoostingClassifier\n",
      "0.650557452849\n"
     ]
    }
   ],
   "source": [
    "classifiers = {}\n",
    "for clf_class in [LogisticRegression, RandomForestClassifier, GaussianNB, DecisionTreeClassifier, GradientBoostingClassifier]:\n",
    "    clf = clf_class()\n",
    "    clf.fit(X_train, y_train)\n",
    "    classifiers[clf.__class__.__name__] = clf\n",
    "    print(clf.__class__.__name__)\n",
    "    print(accuracy_score(y_test, clf.predict(X_test)))"
   ]
  },
  {
   "cell_type": "markdown",
   "metadata": {},
   "source": [
    "#### Fine tunning classifier parameters\n",
    "\n",
    "We will use [grid search](http://scikit-learn.org/stable/modules/grid_search.html) to fine tune classifiers' parameters.\n",
    "\n",
    "Since sklearn claissifiers api are all similar we can use a helper class to do the grid search."
   ]
  },
  {
   "cell_type": "code",
   "execution_count": 30,
   "metadata": {},
   "outputs": [],
   "source": [
    "class SkLeanrnClassifier:\n",
    "    def __init__(self, clf, parameters, X_train, y_train):\n",
    "        self.clf = clf\n",
    "        self.parameters = parameters\n",
    "        self.X_train = X_train\n",
    "        self.y_train = y_train\n",
    "        \n",
    "    def grid_search(self):\n",
    "        acc_scorer = make_scorer(accuracy_score)\n",
    "\n",
    "        # Run the grid search\n",
    "        grid_obj = GridSearchCV(self.clf, self.parameters, scoring=acc_scorer, n_jobs=-1, cv=5)\n",
    "        grid_obj = grid_obj.fit(X_train, y_train)\n",
    "\n",
    "        # Set the clf to the best combination of parameters\n",
    "        return grid_obj"
   ]
  },
  {
   "cell_type": "code",
   "execution_count": 31,
   "metadata": {},
   "outputs": [
    {
     "name": "stdout",
     "output_type": "stream",
     "text": [
      "GradientBoostingClassifier\n",
      "0.650380483691\n"
     ]
    }
   ],
   "source": [
    "clf = GradientBoostingClassifier(n_estimators=1000, learning_rate=10/1000)\n",
    "clf.fit(X_train, y_train)\n",
    "print(clf.__class__.__name__)\n",
    "print(accuracy_score(y_test, clf.predict(X_test)))"
   ]
  },
  {
   "cell_type": "code",
   "execution_count": 24,
   "metadata": {},
   "outputs": [
    {
     "data": {
      "text/plain": [
       "'\\ngrid_search = SkLeanrnClassifier(GradientBoostingClassifier(), parameters, X_train, y_train).grid_search()\\nclf = grid_search.best_estimator_\\nprint(clf.__class__.__name__)\\npredictions = clf.predict(X_test)\\nprint(accuracy_score(y_test, predictions))\\nprint(classification_report(y_test, predictions))\\n'"
      ]
     },
     "execution_count": 24,
     "metadata": {},
     "output_type": "execute_result"
    }
   ],
   "source": [
    "parameters = [{\n",
    "    \"n_estimators\": [n_tree],\n",
    "    \"learning_rate\": [2/n_tree, 5/n_tree, 10/n_tree],\n",
    "    #\"min_samples_leaf\": [7, 9, 13],\n",
    "    \"max_depth\": [4, 6, 8, 10],\n",
    "    #\"max_features\": [100, 150, 250],\n",
    "} for n_tree in [100, 1000, 10000]]\n",
    "\n",
    "\"\"\"\n",
    "grid_search = SkLeanrnClassifier(GradientBoostingClassifier(), parameters, X_train, y_train).grid_search()\n",
    "clf = grid_search.best_estimator_\n",
    "print(clf.__class__.__name__)\n",
    "predictions = clf.predict(X_test)\n",
    "print(accuracy_score(y_test, predictions))\n",
    "print(classification_report(y_test, predictions))\n",
    "\"\"\""
   ]
  },
  {
   "cell_type": "markdown",
   "metadata": {},
   "source": [
    "## Analysis"
   ]
  },
  {
   "cell_type": "markdown",
   "metadata": {},
   "source": [
    "##### Feature importance"
   ]
  },
  {
   "cell_type": "markdown",
   "metadata": {},
   "source": [
    "We see that these classifiers don't use the same feature with the same importance, that means that we can hope to get better results with combining theses classifiers."
   ]
  },
  {
   "cell_type": "code",
   "execution_count": 25,
   "metadata": {},
   "outputs": [
    {
     "ename": "KeyError",
     "evalue": "'AdaBoostClassifier'",
     "output_type": "error",
     "traceback": [
      "\u001b[0;31m---------------------------------------------------------------------------\u001b[0m",
      "\u001b[0;31mKeyError\u001b[0m                                  Traceback (most recent call last)",
      "\u001b[0;32m<ipython-input-25-f60a5e65ed5c>\u001b[0m in \u001b[0;36m<module>\u001b[0;34m()\u001b[0m\n\u001b[1;32m      1\u001b[0m eclf1 = VotingClassifier(estimators=[\n\u001b[0;32m----> 2\u001b[0;31m         \u001b[0;34m(\u001b[0m\u001b[0;34m\"ada\"\u001b[0m\u001b[0;34m,\u001b[0m \u001b[0mclassifiers\u001b[0m\u001b[0;34m[\u001b[0m\u001b[0;34m\"AdaBoostClassifier\"\u001b[0m\u001b[0;34m]\u001b[0m\u001b[0;34m)\u001b[0m\u001b[0;34m,\u001b[0m\u001b[0;34m\u001b[0m\u001b[0m\n\u001b[0m\u001b[1;32m      3\u001b[0m         \u001b[0;34m(\u001b[0m\u001b[0;34m\"rf\"\u001b[0m\u001b[0;34m,\u001b[0m \u001b[0mclassifiers\u001b[0m\u001b[0;34m[\u001b[0m\u001b[0;34m\"RandomForestClassifier\"\u001b[0m\u001b[0;34m]\u001b[0m\u001b[0;34m)\u001b[0m\u001b[0;34m,\u001b[0m\u001b[0;34m\u001b[0m\u001b[0m\n\u001b[1;32m      4\u001b[0m         \u001b[0;34m(\u001b[0m\u001b[0;34m\"gb\"\u001b[0m\u001b[0;34m,\u001b[0m \u001b[0mclassifiers\u001b[0m\u001b[0;34m[\u001b[0m\u001b[0;34m\"GradientBoostingClassifier\"\u001b[0m\u001b[0;34m]\u001b[0m\u001b[0;34m)\u001b[0m\u001b[0;34m\u001b[0m\u001b[0m\n\u001b[1;32m      5\u001b[0m     ], \n",
      "\u001b[0;31mKeyError\u001b[0m: 'AdaBoostClassifier'"
     ]
    }
   ],
   "source": [
    "eclf1 = VotingClassifier(estimators=[\n",
    "        (\"ada\", classifiers[\"AdaBoostClassifier\"]), \n",
    "        (\"rf\", classifiers[\"RandomForestClassifier\"]), \n",
    "        (\"gb\", classifiers[\"GradientBoostingClassifier\"])\n",
    "    ], \n",
    "    voting=\"hard\")\n",
    "eclf1 = eclf1.fit(X_train, y_train)\n",
    "predictions = eclf1.predict(X_test)\n",
    "print(classification_report(y_test, predictions))\n",
    "print(accuracy_score(y_test, predictions))"
   ]
  },
  {
   "cell_type": "code",
   "execution_count": null,
   "metadata": {},
   "outputs": [],
   "source": [
    "from sklearn.ensemble import BaggingClassifier\n",
    "from sklearn.neighbors import KNeighborsClassifier\n",
    "bagging = BaggingClassifier(KNeighborsClassifier(), max_samples=0.5, max_features=0.5)\n",
    "bagging.fit(X_train, y_train)\n",
    "predictions = bagging.predict(X_test)\n",
    "print(classification_report(y_test, predictions))\n",
    "print(accuracy_score(y_test, predictions))"
   ]
  },
  {
   "cell_type": "code",
   "execution_count": null,
   "metadata": {},
   "outputs": [],
   "source": []
  }
 ],
 "metadata": {
  "kernelspec": {
   "display_name": "Python 3",
   "language": "python",
   "name": "python3"
  },
  "language_info": {
   "codemirror_mode": {
    "name": "ipython",
    "version": 3
   },
   "file_extension": ".py",
   "mimetype": "text/x-python",
   "name": "python",
   "nbconvert_exporter": "python",
   "pygments_lexer": "ipython3",
   "version": "3.6.3"
  }
 },
 "nbformat": 4,
 "nbformat_minor": 2
}
