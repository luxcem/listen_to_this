{
 "cells": [
  {
   "cell_type": "markdown",
   "metadata": {},
   "source": [
    "# Exercice Machine Learning Selectra"
   ]
  },
  {
   "cell_type": "markdown",
   "metadata": {},
   "source": [
    "Arnaud Fabre 2018"
   ]
  },
  {
   "cell_type": "code",
   "execution_count": 1,
   "metadata": {},
   "outputs": [],
   "source": [
    "# DataScience libs\n",
    "import pandas as pd\n",
    "import numpy as np"
   ]
  },
  {
   "cell_type": "code",
   "execution_count": 2,
   "metadata": {},
   "outputs": [],
   "source": [
    "# DataViz libs\n",
    "import matplotlib.pyplot as plt\n",
    "import seaborn as sns\n",
    "%matplotlib inline"
   ]
  },
  {
   "cell_type": "code",
   "execution_count": 3,
   "metadata": {},
   "outputs": [],
   "source": [
    "# Reading data\n",
    "data_read = pd.read_csv(\"data_music_replay_train\")\n",
    "data = data_read.copy()"
   ]
  },
  {
   "cell_type": "markdown",
   "metadata": {},
   "source": [
    "## Showing correlations"
   ]
  },
  {
   "cell_type": "markdown",
   "metadata": {},
   "source": [
    "The very first step of a machine learning process is to understand the data."
   ]
  },
  {
   "cell_type": "code",
   "execution_count": 4,
   "metadata": {},
   "outputs": [
    {
     "data": {
      "text/html": [
       "<div>\n",
       "<style scoped>\n",
       "    .dataframe tbody tr th:only-of-type {\n",
       "        vertical-align: middle;\n",
       "    }\n",
       "\n",
       "    .dataframe tbody tr th {\n",
       "        vertical-align: top;\n",
       "    }\n",
       "\n",
       "    .dataframe thead th {\n",
       "        text-align: right;\n",
       "    }\n",
       "</style>\n",
       "<table border=\"1\" class=\"dataframe\">\n",
       "  <thead>\n",
       "    <tr style=\"text-align: right;\">\n",
       "      <th></th>\n",
       "      <th>msno</th>\n",
       "      <th>song_id</th>\n",
       "      <th>source_system_tab</th>\n",
       "      <th>source_screen_name</th>\n",
       "      <th>source_type</th>\n",
       "      <th>target</th>\n",
       "      <th>city</th>\n",
       "      <th>bd</th>\n",
       "      <th>gender</th>\n",
       "      <th>registered_via</th>\n",
       "      <th>registration_init_time</th>\n",
       "      <th>expiration_date</th>\n",
       "      <th>song_length</th>\n",
       "      <th>genre_ids</th>\n",
       "      <th>language</th>\n",
       "      <th>remaining_days</th>\n",
       "    </tr>\n",
       "  </thead>\n",
       "  <tbody>\n",
       "    <tr>\n",
       "      <th>352417</th>\n",
       "      <td>21545</td>\n",
       "      <td>55169</td>\n",
       "      <td>discover</td>\n",
       "      <td>Online playlist more</td>\n",
       "      <td>online-playlist</td>\n",
       "      <td>1</td>\n",
       "      <td>1</td>\n",
       "      <td>0</td>\n",
       "      <td>NaN</td>\n",
       "      <td>4</td>\n",
       "      <td>2016-09-07</td>\n",
       "      <td>2017-06-13</td>\n",
       "      <td>215144</td>\n",
       "      <td>458</td>\n",
       "      <td>3.0</td>\n",
       "      <td>279</td>\n",
       "    </tr>\n",
       "    <tr>\n",
       "      <th>338828</th>\n",
       "      <td>23919</td>\n",
       "      <td>85368</td>\n",
       "      <td>discover</td>\n",
       "      <td>Online playlist more</td>\n",
       "      <td>online-playlist</td>\n",
       "      <td>1</td>\n",
       "      <td>1</td>\n",
       "      <td>0</td>\n",
       "      <td>NaN</td>\n",
       "      <td>7</td>\n",
       "      <td>2015-04-27</td>\n",
       "      <td>2017-10-02</td>\n",
       "      <td>279405</td>\n",
       "      <td>458</td>\n",
       "      <td>3.0</td>\n",
       "      <td>889</td>\n",
       "    </tr>\n",
       "    <tr>\n",
       "      <th>195413</th>\n",
       "      <td>3411</td>\n",
       "      <td>8501</td>\n",
       "      <td>my library</td>\n",
       "      <td>Local playlist more</td>\n",
       "      <td>local-library</td>\n",
       "      <td>0</td>\n",
       "      <td>13</td>\n",
       "      <td>24</td>\n",
       "      <td>female</td>\n",
       "      <td>3</td>\n",
       "      <td>2012-01-31</td>\n",
       "      <td>2017-09-16</td>\n",
       "      <td>204042</td>\n",
       "      <td>465</td>\n",
       "      <td>52.0</td>\n",
       "      <td>2055</td>\n",
       "    </tr>\n",
       "    <tr>\n",
       "      <th>370715</th>\n",
       "      <td>9035</td>\n",
       "      <td>16084</td>\n",
       "      <td>radio</td>\n",
       "      <td>NaN</td>\n",
       "      <td>top-hits-for-artist</td>\n",
       "      <td>0</td>\n",
       "      <td>1</td>\n",
       "      <td>0</td>\n",
       "      <td>NaN</td>\n",
       "      <td>7</td>\n",
       "      <td>2016-03-23</td>\n",
       "      <td>2017-09-23</td>\n",
       "      <td>251054</td>\n",
       "      <td>465</td>\n",
       "      <td>10.0</td>\n",
       "      <td>549</td>\n",
       "    </tr>\n",
       "  </tbody>\n",
       "</table>\n",
       "</div>"
      ],
      "text/plain": [
       "         msno  song_id source_system_tab    source_screen_name  \\\n",
       "352417  21545    55169          discover  Online playlist more   \n",
       "338828  23919    85368          discover  Online playlist more   \n",
       "195413   3411     8501        my library   Local playlist more   \n",
       "370715   9035    16084             radio                   NaN   \n",
       "\n",
       "                source_type  target  city  bd  gender  registered_via  \\\n",
       "352417      online-playlist       1     1   0     NaN               4   \n",
       "338828      online-playlist       1     1   0     NaN               7   \n",
       "195413        local-library       0    13  24  female               3   \n",
       "370715  top-hits-for-artist       0     1   0     NaN               7   \n",
       "\n",
       "       registration_init_time expiration_date  song_length genre_ids  \\\n",
       "352417             2016-09-07      2017-06-13       215144       458   \n",
       "338828             2015-04-27      2017-10-02       279405       458   \n",
       "195413             2012-01-31      2017-09-16       204042       465   \n",
       "370715             2016-03-23      2017-09-23       251054       465   \n",
       "\n",
       "        language  remaining_days  \n",
       "352417       3.0             279  \n",
       "338828       3.0             889  \n",
       "195413      52.0            2055  \n",
       "370715      10.0             549  "
      ]
     },
     "execution_count": 4,
     "metadata": {},
     "output_type": "execute_result"
    }
   ],
   "source": [
    "# Show a sample of the data\n",
    "data.sample(4)"
   ]
  },
  {
   "cell_type": "code",
   "execution_count": 5,
   "metadata": {},
   "outputs": [
    {
     "data": {
      "text/html": [
       "<div>\n",
       "<style scoped>\n",
       "    .dataframe tbody tr th:only-of-type {\n",
       "        vertical-align: middle;\n",
       "    }\n",
       "\n",
       "    .dataframe tbody tr th {\n",
       "        vertical-align: top;\n",
       "    }\n",
       "\n",
       "    .dataframe thead th {\n",
       "        text-align: right;\n",
       "    }\n",
       "</style>\n",
       "<table border=\"1\" class=\"dataframe\">\n",
       "  <thead>\n",
       "    <tr style=\"text-align: right;\">\n",
       "      <th></th>\n",
       "      <th>count</th>\n",
       "      <th>mean</th>\n",
       "      <th>std</th>\n",
       "      <th>min</th>\n",
       "      <th>25%</th>\n",
       "      <th>50%</th>\n",
       "      <th>75%</th>\n",
       "      <th>max</th>\n",
       "    </tr>\n",
       "  </thead>\n",
       "  <tbody>\n",
       "    <tr>\n",
       "      <th>msno</th>\n",
       "      <td>663957.0</td>\n",
       "      <td>13659.028247</td>\n",
       "      <td>7873.546059</td>\n",
       "      <td>0.0</td>\n",
       "      <td>6854.0</td>\n",
       "      <td>13723.0</td>\n",
       "      <td>20526.0</td>\n",
       "      <td>27218.0</td>\n",
       "    </tr>\n",
       "    <tr>\n",
       "      <th>song_id</th>\n",
       "      <td>663957.0</td>\n",
       "      <td>56475.518228</td>\n",
       "      <td>32723.693649</td>\n",
       "      <td>0.0</td>\n",
       "      <td>28015.0</td>\n",
       "      <td>56246.0</td>\n",
       "      <td>84349.0</td>\n",
       "      <td>113332.0</td>\n",
       "    </tr>\n",
       "    <tr>\n",
       "      <th>target</th>\n",
       "      <td>663957.0</td>\n",
       "      <td>0.502484</td>\n",
       "      <td>0.499994</td>\n",
       "      <td>0.0</td>\n",
       "      <td>0.0</td>\n",
       "      <td>1.0</td>\n",
       "      <td>1.0</td>\n",
       "      <td>1.0</td>\n",
       "    </tr>\n",
       "    <tr>\n",
       "      <th>city</th>\n",
       "      <td>663957.0</td>\n",
       "      <td>7.512226</td>\n",
       "      <td>6.643304</td>\n",
       "      <td>1.0</td>\n",
       "      <td>1.0</td>\n",
       "      <td>5.0</td>\n",
       "      <td>13.0</td>\n",
       "      <td>22.0</td>\n",
       "    </tr>\n",
       "    <tr>\n",
       "      <th>bd</th>\n",
       "      <td>663957.0</td>\n",
       "      <td>17.535374</td>\n",
       "      <td>21.499614</td>\n",
       "      <td>-43.0</td>\n",
       "      <td>0.0</td>\n",
       "      <td>21.0</td>\n",
       "      <td>29.0</td>\n",
       "      <td>1030.0</td>\n",
       "    </tr>\n",
       "    <tr>\n",
       "      <th>registered_via</th>\n",
       "      <td>663957.0</td>\n",
       "      <td>6.793684</td>\n",
       "      <td>2.275819</td>\n",
       "      <td>3.0</td>\n",
       "      <td>4.0</td>\n",
       "      <td>7.0</td>\n",
       "      <td>9.0</td>\n",
       "      <td>13.0</td>\n",
       "    </tr>\n",
       "    <tr>\n",
       "      <th>song_length</th>\n",
       "      <td>663957.0</td>\n",
       "      <td>245059.429103</td>\n",
       "      <td>67391.013986</td>\n",
       "      <td>1950.0</td>\n",
       "      <td>214622.0</td>\n",
       "      <td>241684.0</td>\n",
       "      <td>272195.0</td>\n",
       "      <td>7575835.0</td>\n",
       "    </tr>\n",
       "    <tr>\n",
       "      <th>language</th>\n",
       "      <td>663953.0</td>\n",
       "      <td>18.598420</td>\n",
       "      <td>21.186004</td>\n",
       "      <td>-1.0</td>\n",
       "      <td>3.0</td>\n",
       "      <td>3.0</td>\n",
       "      <td>52.0</td>\n",
       "      <td>59.0</td>\n",
       "    </tr>\n",
       "    <tr>\n",
       "      <th>remaining_days</th>\n",
       "      <td>663957.0</td>\n",
       "      <td>1627.231030</td>\n",
       "      <td>1127.995910</td>\n",
       "      <td>-16191.0</td>\n",
       "      <td>701.0</td>\n",
       "      <td>1434.0</td>\n",
       "      <td>2286.0</td>\n",
       "      <td>5149.0</td>\n",
       "    </tr>\n",
       "  </tbody>\n",
       "</table>\n",
       "</div>"
      ],
      "text/plain": [
       "                   count           mean           std      min       25%  \\\n",
       "msno            663957.0   13659.028247   7873.546059      0.0    6854.0   \n",
       "song_id         663957.0   56475.518228  32723.693649      0.0   28015.0   \n",
       "target          663957.0       0.502484      0.499994      0.0       0.0   \n",
       "city            663957.0       7.512226      6.643304      1.0       1.0   \n",
       "bd              663957.0      17.535374     21.499614    -43.0       0.0   \n",
       "registered_via  663957.0       6.793684      2.275819      3.0       4.0   \n",
       "song_length     663957.0  245059.429103  67391.013986   1950.0  214622.0   \n",
       "language        663953.0      18.598420     21.186004     -1.0       3.0   \n",
       "remaining_days  663957.0    1627.231030   1127.995910 -16191.0     701.0   \n",
       "\n",
       "                     50%       75%        max  \n",
       "msno             13723.0   20526.0    27218.0  \n",
       "song_id          56246.0   84349.0   113332.0  \n",
       "target               1.0       1.0        1.0  \n",
       "city                 5.0      13.0       22.0  \n",
       "bd                  21.0      29.0     1030.0  \n",
       "registered_via       7.0       9.0       13.0  \n",
       "song_length     241684.0  272195.0  7575835.0  \n",
       "language             3.0      52.0       59.0  \n",
       "remaining_days    1434.0    2286.0     5149.0  "
      ]
     },
     "execution_count": 5,
     "metadata": {},
     "output_type": "execute_result"
    }
   ],
   "source": [
    "# Show feature properties\n",
    "data.describe().transpose()"
   ]
  },
  {
   "cell_type": "markdown",
   "metadata": {},
   "source": [
    "We have to transform categorical feature into numerical feature as ML algorithms use numerical feature"
   ]
  },
  {
   "cell_type": "code",
   "execution_count": null,
   "metadata": {},
   "outputs": [],
   "source": []
  },
  {
   "cell_type": "code",
   "execution_count": 6,
   "metadata": {},
   "outputs": [
    {
     "data": {
      "text/plain": [
       "msno                        int64\n",
       "song_id                     int64\n",
       "source_system_tab          object\n",
       "source_screen_name         object\n",
       "source_type                object\n",
       "target                      int64\n",
       "city                        int64\n",
       "bd                          int64\n",
       "gender                     object\n",
       "registered_via              int64\n",
       "registration_init_time     object\n",
       "expiration_date            object\n",
       "song_length                 int64\n",
       "genre_ids                  object\n",
       "language                  float64\n",
       "remaining_days              int64\n",
       "dtype: object"
      ]
     },
     "execution_count": 6,
     "metadata": {},
     "output_type": "execute_result"
    }
   ],
   "source": [
    "# Identify possible issues with some columns\n",
    "data.dtypes"
   ]
  },
  {
   "cell_type": "code",
   "execution_count": 7,
   "metadata": {},
   "outputs": [
    {
     "data": {
      "text/plain": [
       "638362      921|465\n",
       "139351      465|458\n",
       "586949      465|798\n",
       "655701      465|458\n",
       "97980     1616|1609\n",
       "540474     444|1259\n",
       "97964       921|465\n",
       "640721      465|798\n",
       "285014     465|1011\n",
       "291040      921|465\n",
       "Name: genre_ids, dtype: object"
      ]
     },
     "execution_count": 7,
     "metadata": {},
     "output_type": "execute_result"
    }
   ],
   "source": [
    "# genre_ids is a combination of differents types\n",
    "# We are going to get value that are not numbers\n",
    "not_numbers = data_read.genre_ids.astype(str).apply(lambda x: x.isnumeric()) == False\n",
    "data_read[\"genre_ids\"][not_numbers.values].sample(10)"
   ]
  },
  {
   "cell_type": "markdown",
   "metadata": {},
   "source": [
    "We see that some element have multiple genre or not, for our first algorith we will only select the first genre"
   ]
  },
  {
   "cell_type": "code",
   "execution_count": 8,
   "metadata": {},
   "outputs": [
    {
     "data": {
      "text/plain": [
       "count    663957.000000\n",
       "mean         17.535374\n",
       "std          21.499614\n",
       "min         -43.000000\n",
       "25%           0.000000\n",
       "50%          21.000000\n",
       "75%          29.000000\n",
       "max        1030.000000\n",
       "Name: bd, dtype: float64"
      ]
     },
     "execution_count": 8,
     "metadata": {},
     "output_type": "execute_result"
    }
   ],
   "source": [
    "data[\"bd\"].describe()"
   ]
  },
  {
   "cell_type": "markdown",
   "metadata": {},
   "source": [
    "bd is the age so it should not be negative or 0 we will replace outliers with the median value"
   ]
  },
  {
   "cell_type": "code",
   "execution_count": 9,
   "metadata": {},
   "outputs": [
    {
     "data": {
      "text/plain": [
       "msno                      False\n",
       "song_id                   False\n",
       "source_system_tab          True\n",
       "source_screen_name         True\n",
       "source_type                True\n",
       "target                    False\n",
       "city                      False\n",
       "bd                        False\n",
       "gender                     True\n",
       "registered_via            False\n",
       "registration_init_time    False\n",
       "expiration_date           False\n",
       "song_length               False\n",
       "genre_ids                  True\n",
       "language                   True\n",
       "remaining_days            False\n",
       "dtype: bool"
      ]
     },
     "execution_count": 9,
     "metadata": {},
     "output_type": "execute_result"
    }
   ],
   "source": [
    "data.isnull().any()"
   ]
  },
  {
   "cell_type": "markdown",
   "metadata": {},
   "source": [
    "We see that some language are NaN, let see more in depth"
   ]
  },
  {
   "cell_type": "code",
   "execution_count": 10,
   "metadata": {},
   "outputs": [
    {
     "data": {
      "text/html": [
       "<div>\n",
       "<style scoped>\n",
       "    .dataframe tbody tr th:only-of-type {\n",
       "        vertical-align: middle;\n",
       "    }\n",
       "\n",
       "    .dataframe tbody tr th {\n",
       "        vertical-align: top;\n",
       "    }\n",
       "\n",
       "    .dataframe thead th {\n",
       "        text-align: right;\n",
       "    }\n",
       "</style>\n",
       "<table border=\"1\" class=\"dataframe\">\n",
       "  <thead>\n",
       "    <tr style=\"text-align: right;\">\n",
       "      <th></th>\n",
       "      <th>msno</th>\n",
       "      <th>song_id</th>\n",
       "      <th>source_system_tab</th>\n",
       "      <th>source_screen_name</th>\n",
       "      <th>source_type</th>\n",
       "      <th>target</th>\n",
       "      <th>city</th>\n",
       "      <th>bd</th>\n",
       "      <th>gender</th>\n",
       "      <th>registered_via</th>\n",
       "      <th>registration_init_time</th>\n",
       "      <th>expiration_date</th>\n",
       "      <th>song_length</th>\n",
       "      <th>genre_ids</th>\n",
       "      <th>language</th>\n",
       "      <th>remaining_days</th>\n",
       "    </tr>\n",
       "  </thead>\n",
       "  <tbody>\n",
       "    <tr>\n",
       "      <th>130402</th>\n",
       "      <td>3455</td>\n",
       "      <td>91022</td>\n",
       "      <td>my library</td>\n",
       "      <td>Local playlist more</td>\n",
       "      <td>local-library</td>\n",
       "      <td>0</td>\n",
       "      <td>1</td>\n",
       "      <td>0</td>\n",
       "      <td>NaN</td>\n",
       "      <td>4</td>\n",
       "      <td>2016-03-21</td>\n",
       "      <td>2017-10-12</td>\n",
       "      <td>178654</td>\n",
       "      <td>444</td>\n",
       "      <td>NaN</td>\n",
       "      <td>570</td>\n",
       "    </tr>\n",
       "    <tr>\n",
       "      <th>151286</th>\n",
       "      <td>21256</td>\n",
       "      <td>91022</td>\n",
       "      <td>discover</td>\n",
       "      <td>Online playlist more</td>\n",
       "      <td>online-playlist</td>\n",
       "      <td>0</td>\n",
       "      <td>13</td>\n",
       "      <td>40</td>\n",
       "      <td>male</td>\n",
       "      <td>9</td>\n",
       "      <td>2009-09-21</td>\n",
       "      <td>2017-09-30</td>\n",
       "      <td>178654</td>\n",
       "      <td>444</td>\n",
       "      <td>NaN</td>\n",
       "      <td>2931</td>\n",
       "    </tr>\n",
       "    <tr>\n",
       "      <th>297675</th>\n",
       "      <td>13796</td>\n",
       "      <td>91022</td>\n",
       "      <td>my library</td>\n",
       "      <td>Local playlist more</td>\n",
       "      <td>local-library</td>\n",
       "      <td>0</td>\n",
       "      <td>1</td>\n",
       "      <td>0</td>\n",
       "      <td>NaN</td>\n",
       "      <td>7</td>\n",
       "      <td>2011-08-16</td>\n",
       "      <td>2017-09-08</td>\n",
       "      <td>178654</td>\n",
       "      <td>444</td>\n",
       "      <td>NaN</td>\n",
       "      <td>2215</td>\n",
       "    </tr>\n",
       "    <tr>\n",
       "      <th>359198</th>\n",
       "      <td>887</td>\n",
       "      <td>91022</td>\n",
       "      <td>discover</td>\n",
       "      <td>Discover Genre</td>\n",
       "      <td>online-playlist</td>\n",
       "      <td>1</td>\n",
       "      <td>15</td>\n",
       "      <td>37</td>\n",
       "      <td>male</td>\n",
       "      <td>4</td>\n",
       "      <td>2017-01-09</td>\n",
       "      <td>2017-10-11</td>\n",
       "      <td>178654</td>\n",
       "      <td>444</td>\n",
       "      <td>NaN</td>\n",
       "      <td>275</td>\n",
       "    </tr>\n",
       "  </tbody>\n",
       "</table>\n",
       "</div>"
      ],
      "text/plain": [
       "         msno  song_id source_system_tab    source_screen_name  \\\n",
       "130402   3455    91022        my library   Local playlist more   \n",
       "151286  21256    91022          discover  Online playlist more   \n",
       "297675  13796    91022        my library   Local playlist more   \n",
       "359198    887    91022          discover        Discover Genre   \n",
       "\n",
       "            source_type  target  city  bd gender  registered_via  \\\n",
       "130402    local-library       0     1   0    NaN               4   \n",
       "151286  online-playlist       0    13  40   male               9   \n",
       "297675    local-library       0     1   0    NaN               7   \n",
       "359198  online-playlist       1    15  37   male               4   \n",
       "\n",
       "       registration_init_time expiration_date  song_length genre_ids  \\\n",
       "130402             2016-03-21      2017-10-12       178654       444   \n",
       "151286             2009-09-21      2017-09-30       178654       444   \n",
       "297675             2011-08-16      2017-09-08       178654       444   \n",
       "359198             2017-01-09      2017-10-11       178654       444   \n",
       "\n",
       "        language  remaining_days  \n",
       "130402       NaN             570  \n",
       "151286       NaN            2931  \n",
       "297675       NaN            2215  \n",
       "359198       NaN             275  "
      ]
     },
     "execution_count": 10,
     "metadata": {},
     "output_type": "execute_result"
    }
   ],
   "source": [
    "data[data.language.isnull()]"
   ]
  },
  {
   "cell_type": "markdown",
   "metadata": {},
   "source": [
    "We only have a few NaN we will set a default value for these"
   ]
  },
  {
   "cell_type": "code",
   "execution_count": 11,
   "metadata": {},
   "outputs": [],
   "source": [
    "def bd_outlier(age):\n",
    "    if age <= 0:\n",
    "        return None\n",
    "    return age\n",
    "\n",
    "def cat_gender(g):\n",
    "    if g == \"male\":\n",
    "        return 1\n",
    "    elif g == \"female\":\n",
    "        return -1\n",
    "    else:\n",
    "        return 0\n",
    "    \n",
    "def cat_genre(g):\n",
    "    # Select first genre\n",
    "    try:\n",
    "        return(int(g))\n",
    "    except:\n",
    "        if isinstance(g, str):\n",
    "            return g.split(\"|\")[0]\n",
    "        else:\n",
    "            return 0\n",
    "        \n",
    "def correct_language(l):\n",
    "    if l is None or l < 0:\n",
    "        return 0\n",
    "    return l\n",
    "\n",
    "data = data_read.copy()\n",
    "bd_median = data_read[\"bd\"].apply(bd_outlier).median()\n",
    "data[\"bd\"] = data_read[\"bd\"].apply(bd_outlier).fillna(bd_median)\n",
    "data[\"gender\"] = data[\"gender\"].apply(cat_gender)\n",
    "data[\"source_type\"] = data[\"source_type\"].astype(\"category\").cat.codes\n",
    "data[\"source_screen_name\"] = data[\"source_screen_name\"].astype(\"category\").cat.codes\n",
    "data[\"source_system_tab\"] = data[\"source_system_tab\"].astype(\"category\").cat.codes\n",
    "data[\"genre_ids\"] = data[\"genre_ids\"].apply(cat_genre)\n",
    "data[\"language\"] = data[\"language\"].apply(correct_language).fillna(0)\n",
    "\n",
    "# Create feature from datetimes: time before expiration\n",
    "data[\"expires_in\"] = (\n",
    "    (pd.to_datetime(data.expiration_date) - pd.to_datetime(data.registration_init_time)) / np.timedelta64(1, \"D\")).astype(int)\n",
    "data.drop([\"registration_init_time\", \"expiration_date\"], axis=1, inplace=True)"
   ]
  },
  {
   "cell_type": "code",
   "execution_count": 12,
   "metadata": {},
   "outputs": [
    {
     "data": {
      "text/html": [
       "<div>\n",
       "<style scoped>\n",
       "    .dataframe tbody tr th:only-of-type {\n",
       "        vertical-align: middle;\n",
       "    }\n",
       "\n",
       "    .dataframe tbody tr th {\n",
       "        vertical-align: top;\n",
       "    }\n",
       "\n",
       "    .dataframe thead th {\n",
       "        text-align: right;\n",
       "    }\n",
       "</style>\n",
       "<table border=\"1\" class=\"dataframe\">\n",
       "  <thead>\n",
       "    <tr style=\"text-align: right;\">\n",
       "      <th></th>\n",
       "      <th>msno</th>\n",
       "      <th>song_id</th>\n",
       "      <th>source_system_tab</th>\n",
       "      <th>source_screen_name</th>\n",
       "      <th>source_type</th>\n",
       "      <th>target</th>\n",
       "      <th>city</th>\n",
       "      <th>bd</th>\n",
       "      <th>gender</th>\n",
       "      <th>registered_via</th>\n",
       "      <th>song_length</th>\n",
       "      <th>genre_ids</th>\n",
       "      <th>language</th>\n",
       "      <th>remaining_days</th>\n",
       "      <th>expires_in</th>\n",
       "    </tr>\n",
       "  </thead>\n",
       "  <tbody>\n",
       "    <tr>\n",
       "      <th>0</th>\n",
       "      <td>1338</td>\n",
       "      <td>9007</td>\n",
       "      <td>3</td>\n",
       "      <td>8</td>\n",
       "      <td>3</td>\n",
       "      <td>1</td>\n",
       "      <td>8</td>\n",
       "      <td>30.0</td>\n",
       "      <td>-1</td>\n",
       "      <td>7</td>\n",
       "      <td>249312</td>\n",
       "      <td>465</td>\n",
       "      <td>3.0</td>\n",
       "      <td>671</td>\n",
       "      <td>671</td>\n",
       "    </tr>\n",
       "    <tr>\n",
       "      <th>1</th>\n",
       "      <td>7334</td>\n",
       "      <td>76573</td>\n",
       "      <td>1</td>\n",
       "      <td>7</td>\n",
       "      <td>6</td>\n",
       "      <td>1</td>\n",
       "      <td>4</td>\n",
       "      <td>19.0</td>\n",
       "      <td>-1</td>\n",
       "      <td>4</td>\n",
       "      <td>237600</td>\n",
       "      <td>458</td>\n",
       "      <td>3.0</td>\n",
       "      <td>468</td>\n",
       "      <td>468</td>\n",
       "    </tr>\n",
       "    <tr>\n",
       "      <th>2</th>\n",
       "      <td>11110</td>\n",
       "      <td>43646</td>\n",
       "      <td>3</td>\n",
       "      <td>8</td>\n",
       "      <td>4</td>\n",
       "      <td>1</td>\n",
       "      <td>5</td>\n",
       "      <td>25.0</td>\n",
       "      <td>-1</td>\n",
       "      <td>3</td>\n",
       "      <td>312450</td>\n",
       "      <td>465</td>\n",
       "      <td>3.0</td>\n",
       "      <td>1428</td>\n",
       "      <td>1428</td>\n",
       "    </tr>\n",
       "    <tr>\n",
       "      <th>3</th>\n",
       "      <td>25580</td>\n",
       "      <td>76356</td>\n",
       "      <td>0</td>\n",
       "      <td>4</td>\n",
       "      <td>9</td>\n",
       "      <td>1</td>\n",
       "      <td>5</td>\n",
       "      <td>33.0</td>\n",
       "      <td>1</td>\n",
       "      <td>9</td>\n",
       "      <td>227378</td>\n",
       "      <td>1609</td>\n",
       "      <td>52.0</td>\n",
       "      <td>4705</td>\n",
       "      <td>4705</td>\n",
       "    </tr>\n",
       "    <tr>\n",
       "      <th>4</th>\n",
       "      <td>19217</td>\n",
       "      <td>72872</td>\n",
       "      <td>3</td>\n",
       "      <td>8</td>\n",
       "      <td>3</td>\n",
       "      <td>0</td>\n",
       "      <td>1</td>\n",
       "      <td>27.0</td>\n",
       "      <td>0</td>\n",
       "      <td>7</td>\n",
       "      <td>239808</td>\n",
       "      <td>465</td>\n",
       "      <td>3.0</td>\n",
       "      <td>1127</td>\n",
       "      <td>1127</td>\n",
       "    </tr>\n",
       "  </tbody>\n",
       "</table>\n",
       "</div>"
      ],
      "text/plain": [
       "    msno  song_id  source_system_tab  source_screen_name  source_type  target  \\\n",
       "0   1338     9007                  3                   8            3       1   \n",
       "1   7334    76573                  1                   7            6       1   \n",
       "2  11110    43646                  3                   8            4       1   \n",
       "3  25580    76356                  0                   4            9       1   \n",
       "4  19217    72872                  3                   8            3       0   \n",
       "\n",
       "   city    bd  gender  registered_via  song_length genre_ids  language  \\\n",
       "0     8  30.0      -1               7       249312       465       3.0   \n",
       "1     4  19.0      -1               4       237600       458       3.0   \n",
       "2     5  25.0      -1               3       312450       465       3.0   \n",
       "3     5  33.0       1               9       227378      1609      52.0   \n",
       "4     1  27.0       0               7       239808       465       3.0   \n",
       "\n",
       "   remaining_days  expires_in  \n",
       "0             671         671  \n",
       "1             468         468  \n",
       "2            1428        1428  \n",
       "3            4705        4705  \n",
       "4            1127        1127  "
      ]
     },
     "execution_count": 12,
     "metadata": {},
     "output_type": "execute_result"
    }
   ],
   "source": [
    "data.head()"
   ]
  },
  {
   "cell_type": "code",
   "execution_count": 13,
   "metadata": {},
   "outputs": [
    {
     "data": {
      "text/plain": [
       "<matplotlib.axes._subplots.AxesSubplot at 0x7f300cd138d0>"
      ]
     },
     "execution_count": 13,
     "metadata": {},
     "output_type": "execute_result"
    },
    {
     "data": {
      "image/png": "[encoded data removed]",
      "text/plain": [
       "<matplotlib.figure.Figure at 0x7f300cd139e8>"
      ]
     },
     "metadata": {},
     "output_type": "display_data"
    }
   ],
   "source": [
    "# Correlation value with column \"target\"\n",
    "corr = data.corr()[[\"target\"]].abs().sort_values(by=\"target\", ascending=False).reset_index()\n",
    "# drop target/target correlation\n",
    "corr.drop(0, inplace=True)\n",
    "fig = plt.figure(figsize=(20,5));\n",
    "sns.barplot(x=\"index\", y=\"target\", data=corr, ax=plt.subplot(111))"
   ]
  },
  {
   "cell_type": "code",
   "execution_count": 14,
   "metadata": {},
   "outputs": [
    {
     "data": {
      "text/plain": [
       "<matplotlib.axes._subplots.AxesSubplot at 0x7f300cd13a90>"
      ]
     },
     "execution_count": 14,
     "metadata": {},
     "output_type": "execute_result"
    },
    {
     "data": {
      "image/png": "[encoded data removed]",
      "text/plain": [
       "<matplotlib.figure.Figure at 0x7f300cd13588>"
      ]
     },
     "metadata": {},
     "output_type": "display_data"
    }
   ],
   "source": [
    "plt.figure(figsize=(14,12))\n",
    "plt.title(\"Correlation of Features\", y=1, size=15)\n",
    "sns.heatmap(data.astype(float).corr().abs(), linewidths=0.1,vmax=0.2, square=True, cmap=plt.cm.RdBu, linecolor=\"white\", annot=True)"
   ]
  },
  {
   "cell_type": "code",
   "execution_count": 15,
   "metadata": {},
   "outputs": [
    {
     "data": {
      "text/html": [
       "<div>\n",
       "<style scoped>\n",
       "    .dataframe tbody tr th:only-of-type {\n",
       "        vertical-align: middle;\n",
       "    }\n",
       "\n",
       "    .dataframe tbody tr th {\n",
       "        vertical-align: top;\n",
       "    }\n",
       "\n",
       "    .dataframe thead th {\n",
       "        text-align: right;\n",
       "    }\n",
       "</style>\n",
       "<table border=\"1\" class=\"dataframe\">\n",
       "  <thead>\n",
       "    <tr style=\"text-align: right;\">\n",
       "      <th></th>\n",
       "      <th>index</th>\n",
       "      <th>target</th>\n",
       "    </tr>\n",
       "  </thead>\n",
       "  <tbody>\n",
       "    <tr>\n",
       "      <th>1</th>\n",
       "      <td>source_type</td>\n",
       "      <td>0.125735</td>\n",
       "    </tr>\n",
       "    <tr>\n",
       "      <th>2</th>\n",
       "      <td>source_screen_name</td>\n",
       "      <td>0.041738</td>\n",
       "    </tr>\n",
       "    <tr>\n",
       "      <th>3</th>\n",
       "      <td>source_system_tab</td>\n",
       "      <td>0.029667</td>\n",
       "    </tr>\n",
       "    <tr>\n",
       "      <th>4</th>\n",
       "      <td>language</td>\n",
       "      <td>0.026711</td>\n",
       "    </tr>\n",
       "    <tr>\n",
       "      <th>5</th>\n",
       "      <td>bd</td>\n",
       "      <td>0.013852</td>\n",
       "    </tr>\n",
       "    <tr>\n",
       "      <th>6</th>\n",
       "      <td>city</td>\n",
       "      <td>0.012527</td>\n",
       "    </tr>\n",
       "    <tr>\n",
       "      <th>7</th>\n",
       "      <td>registered_via</td>\n",
       "      <td>0.007254</td>\n",
       "    </tr>\n",
       "    <tr>\n",
       "      <th>8</th>\n",
       "      <td>remaining_days</td>\n",
       "      <td>0.005940</td>\n",
       "    </tr>\n",
       "    <tr>\n",
       "      <th>9</th>\n",
       "      <td>expires_in</td>\n",
       "      <td>0.005940</td>\n",
       "    </tr>\n",
       "    <tr>\n",
       "      <th>10</th>\n",
       "      <td>gender</td>\n",
       "      <td>0.004554</td>\n",
       "    </tr>\n",
       "    <tr>\n",
       "      <th>11</th>\n",
       "      <td>song_id</td>\n",
       "      <td>0.003441</td>\n",
       "    </tr>\n",
       "    <tr>\n",
       "      <th>12</th>\n",
       "      <td>msno</td>\n",
       "      <td>0.002673</td>\n",
       "    </tr>\n",
       "    <tr>\n",
       "      <th>13</th>\n",
       "      <td>song_length</td>\n",
       "      <td>0.002008</td>\n",
       "    </tr>\n",
       "  </tbody>\n",
       "</table>\n",
       "</div>"
      ],
      "text/plain": [
       "                 index    target\n",
       "1          source_type  0.125735\n",
       "2   source_screen_name  0.041738\n",
       "3    source_system_tab  0.029667\n",
       "4             language  0.026711\n",
       "5                   bd  0.013852\n",
       "6                 city  0.012527\n",
       "7       registered_via  0.007254\n",
       "8       remaining_days  0.005940\n",
       "9           expires_in  0.005940\n",
       "10              gender  0.004554\n",
       "11             song_id  0.003441\n",
       "12                msno  0.002673\n",
       "13         song_length  0.002008"
      ]
     },
     "execution_count": 15,
     "metadata": {},
     "output_type": "execute_result"
    }
   ],
   "source": [
    "corr"
   ]
  },
  {
   "cell_type": "markdown",
   "metadata": {},
   "source": [
    "We can see that the dataset exhibit some correlation"
   ]
  },
  {
   "cell_type": "markdown",
   "metadata": {},
   "source": [
    "# ML - Training"
   ]
  },
  {
   "cell_type": "code",
   "execution_count": 16,
   "metadata": {},
   "outputs": [],
   "source": [
    "# Utilities\n",
    "from sklearn.metrics import make_scorer, accuracy_score, confusion_matrix, classification_report\n",
    "from sklearn.model_selection import GridSearchCV, StratifiedKFold\n",
    "from sklearn import preprocessing"
   ]
  },
  {
   "cell_type": "markdown",
   "metadata": {},
   "source": [
    "First we split the dataset into 3 part : training / testing\n",
    "\n",
    "This step is really important to not overfitting our model by training it on the test set.\n",
    "\n",
    "- Training set is used to train our model\n",
    "- Testing set is used to calculate our model accuracy\n",
    "\n",
    "The learning algorithm must not see at all any data of the test set!"
   ]
  },
  {
   "cell_type": "code",
   "execution_count": 20,
   "metadata": {},
   "outputs": [],
   "source": [
    "from sklearn.model_selection import train_test_split\n",
    "seed = 444\n",
    "data_fit = data.copy()\n",
    "X_all = data_fit.drop(\"target\", axis=1)\n",
    "y_all = data_fit[\"target\"]\n",
    "\n",
    "# Many classifier excepts data to be normalized\n",
    "scaler = preprocessing.StandardScaler()\n",
    "columns = X_all.columns\n",
    "X_all = pd.DataFrame(scaler.fit_transform(X_all),columns=X_all.columns, index=X_all.index)\n",
    "\n",
    "# For the sake of simplicity we will demonstrate algorithms on a really small subset of the data, to keep calculation short\n",
    "X_train, X_test, y_train, y_test = train_test_split(X_all, y_all, test_size=0.99, random_state=seed)\n",
    "\n",
    "# As the data is really large and to reduce learning time we will only use a portion of it for the training.\n",
    "# Split (train, val, test) in 60/20/20\n",
    "# X_train, X_test, y_train, y_test = train_test_split(X_all, y_all, test_size=0.6, random_state=444)\n",
    "# X_test, X_val, y_test, y_val = train_test_split(X_test, y_test, test_size=0.5, random_state=444)"
   ]
  },
  {
   "cell_type": "markdown",
   "metadata": {},
   "source": [
    "## Fitting"
   ]
  },
  {
   "cell_type": "code",
   "execution_count": 21,
   "metadata": {},
   "outputs": [],
   "source": [
    "# Classifiers\n",
    "from sklearn.linear_model import LogisticRegression\n",
    "from sklearn.svm import SVC\n",
    "from sklearn.ensemble import AdaBoostClassifier, RandomForestClassifier, GradientBoostingClassifier, VotingClassifier\n",
    "from sklearn.naive_bayes import GaussianNB\n",
    "from sklearn.tree import DecisionTreeClassifier"
   ]
  },
  {
   "cell_type": "markdown",
   "metadata": {},
   "source": [
    "#### First classifiers"
   ]
  },
  {
   "cell_type": "code",
   "execution_count": null,
   "metadata": {},
   "outputs": [
    {
     "name": "stdout",
     "output_type": "stream",
     "text": [
      "LogisticRegression\n",
      "0.580682409427\n",
      "SVC\n"
     ]
    }
   ],
   "source": [
    "classifiers = {}\n",
    "for clf_class in [LogisticRegression, RandomForestClassifier, GaussianNB, DecisionTreeClassifier, GradientBoostingClassifier]:\n",
    "    clf = clf_class()\n",
    "    clf.fit(X_train, y_train)\n",
    "    classifiers[clf.__class__.__name__] = clf\n",
    "    print(clf.__class__.__name__)\n",
    "    print(accuracy_score(y_test, clf.predict(X_test)))"
   ]
  },
  {
   "cell_type": "markdown",
   "metadata": {},
   "source": [
    "#### Fine tunning classifier parameters\n",
    "\n",
    "We will use [grid search](http://scikit-learn.org/stable/modules/grid_search.html) to fine tune classifiers' parameters.\n",
    "\n",
    "Since sklearn claissifiers api are all similar we can use a helper class to do the grid search."
   ]
  },
  {
   "cell_type": "code",
   "execution_count": null,
   "metadata": {},
   "outputs": [],
   "source": [
    "class SkLeanrnClassifier:\n",
    "    def __init__(self, clf, parameters, X_train, y_train):\n",
    "        self.clf = clf\n",
    "        self.parameters = parameters\n",
    "        self.X_train = X_train\n",
    "        self.y_train = y_train\n",
    "        \n",
    "    def grid_search(self):\n",
    "        acc_scorer = make_scorer(accuracy_score)\n",
    "\n",
    "        # Run the grid search\n",
    "        grid_obj = GridSearchCV(self.clf, self.parameters, scoring=acc_scorer, n_jobs=-1, cv=5)\n",
    "        grid_obj = grid_obj.fit(X_train, y_train)\n",
    "\n",
    "        # Set the clf to the best combination of parameters\n",
    "        return grid_obj"
   ]
  },
  {
   "cell_type": "code",
   "execution_count": null,
   "metadata": {},
   "outputs": [],
   "source": [
    "parameters = {\n",
    "    \"n_estimators\": [4, 6, 9], \n",
    "    \"max_features\": [\"log2\", \"sqrt\", \"auto\"], \n",
    "    \"criterion\": [\"gini\"],\n",
    "    \"max_depth\": [2, 3, 5, 10], \n",
    "    \"min_samples_split\": [2, 3, 5, 10],\n",
    "    \"min_samples_leaf\": [1, 5, 8]\n",
    "}\n",
    "\n",
    "grid_search = SkLeanrnClassifier(RandomForestClassifier(), parameters, X_train, y_train).grid_search()"
   ]
  },
  {
   "cell_type": "code",
   "execution_count": null,
   "metadata": {},
   "outputs": [],
   "source": [
    "# We can see which parameters gave the best results\n",
    "grid_search.best_params_"
   ]
  },
  {
   "cell_type": "code",
   "execution_count": null,
   "metadata": {},
   "outputs": [],
   "source": [
    "rf_clf = grid_search.best_estimator_\n",
    "predictions = rf_clf.predict(X_test)\n",
    "print(classification_report(y_test, predictions))\n",
    "print(accuracy_score(y_test, predictions))\n",
    "classifiers[\"RandomForestClassifier\"] = rf_clf"
   ]
  },
  {
   "cell_type": "markdown",
   "metadata": {},
   "source": [
    "We have a slighly better accuracy (60% vs 56%)"
   ]
  },
  {
   "cell_type": "code",
   "execution_count": null,
   "metadata": {},
   "outputs": [],
   "source": [
    "parameters = [\n",
    "  {\"C\": [1, 10, 100, 1000], \"kernel\": [\"linear\"]},\n",
    "  {\"C\": [1, 10, 100, 1000], \"gamma\": [0.01, 0.001, 0.0001], \"kernel\": [\"rbf\"]},\n",
    "]\n",
    "# SVM fine tuning is cpu-intensive let's take it aside for the moment\n",
    "# grid_search = SkLeanrnClassifier(SVC(), parameters, X_train, y_train).grid_search()"
   ]
  },
  {
   "cell_type": "code",
   "execution_count": null,
   "metadata": {},
   "outputs": [],
   "source": [
    "# grid_search.best_params_"
   ]
  },
  {
   "cell_type": "code",
   "execution_count": null,
   "metadata": {},
   "outputs": [],
   "source": [
    "\"\"\"\n",
    "svc_clf = grid_search.best_estimator_\n",
    "predictions = svc_clf.predict(X_test)\n",
    "print(classification_report(y_test, predictions))\n",
    "print(accuracy_score(y_test, predictions))\n",
    "classifiers[\"SVC\"] = svc_clf\n",
    "\"\"\"\n",
    "pass"
   ]
  },
  {
   "cell_type": "markdown",
   "metadata": {},
   "source": [
    "Here we did not have a great improovment, because the default parameters were already the best guessed parameters"
   ]
  },
  {
   "cell_type": "markdown",
   "metadata": {},
   "source": [
    "## Analysis"
   ]
  },
  {
   "cell_type": "markdown",
   "metadata": {},
   "source": [
    "##### Feature importance"
   ]
  },
  {
   "cell_type": "code",
   "execution_count": null,
   "metadata": {},
   "outputs": [],
   "source": [
    "bdt = AdaBoostClassifier(DecisionTreeClassifier(max_depth=1),\n",
    "algorithm=\"SAMME\",\n",
    "n_estimators=200)\n",
    "bdt.fit(X_train, y_train)\n",
    "predictions = bdt.predict(X_test)\n",
    "print(classification_report(y_test, predictions))\n",
    "print(accuracy_score(y_test, predictions))\n",
    "classifiers[\"AdaBoostClassifier\"] = bdt"
   ]
  },
  {
   "cell_type": "code",
   "execution_count": null,
   "metadata": {},
   "outputs": [],
   "source": [
    "# AdaBoost\n",
    "fig = plt.figure(figsize=(20,5));\n",
    "sns.barplot(\n",
    "    y=classifiers[\"AdaBoostClassifier\"].feature_importances_,\n",
    "    x=X_train.columns, ax=plt.subplot(111))"
   ]
  },
  {
   "cell_type": "code",
   "execution_count": null,
   "metadata": {},
   "outputs": [],
   "source": [
    "# Random Forest\n",
    "fig = plt.figure(figsize=(20,5));\n",
    "sns.barplot(\n",
    "    y=classifiers[\"RandomForestClassifier\"].feature_importances_,\n",
    "    x=X_train.columns, ax=plt.subplot(111))"
   ]
  },
  {
   "cell_type": "code",
   "execution_count": null,
   "metadata": {},
   "outputs": [],
   "source": [
    "# Gradiant boosting\n",
    "fig = plt.figure(figsize=(20,5));\n",
    "sns.barplot(\n",
    "    y=classifiers[\"GradientBoostingClassifier\"].feature_importances_,\n",
    "    x=X_train.columns, ax=plt.subplot(111))"
   ]
  },
  {
   "cell_type": "markdown",
   "metadata": {},
   "source": [
    "We see that these classifiers don't use the same feature with the same importance, that means that we can hope to get better results with combining theses classifiers."
   ]
  },
  {
   "cell_type": "code",
   "execution_count": null,
   "metadata": {},
   "outputs": [],
   "source": [
    "eclf1 = VotingClassifier(estimators=[\n",
    "        (\"ada\", classifiers[\"AdaBoostClassifier\"]), \n",
    "        (\"rf\", classifiers[\"RandomForestClassifier\"]), \n",
    "        (\"gb\", classifiers[\"GradientBoostingClassifier\"])\n",
    "    ], \n",
    "    voting=\"hard\")\n",
    "eclf1 = eclf1.fit(X_train, y_train)\n",
    "predictions = eclf1.predict(X_test)\n",
    "print(classification_report(y_test, predictions))\n",
    "print(accuracy_score(y_test, predictions))"
   ]
  },
  {
   "cell_type": "code",
   "execution_count": null,
   "metadata": {},
   "outputs": [],
   "source": []
  }
 ],
 "metadata": {
  "kernelspec": {
   "display_name": "Python 3",
   "language": "python",
   "name": "python3"
  },
  "language_info": {
   "codemirror_mode": {
    "name": "ipython",
    "version": 3
   },
   "file_extension": ".py",
   "mimetype": "text/x-python",
   "name": "python",
   "nbconvert_exporter": "python",
   "pygments_lexer": "ipython3",
   "version": "3.6.3"
  }
 },
 "nbformat": 4,
 "nbformat_minor": 2
}
